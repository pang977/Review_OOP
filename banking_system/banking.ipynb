{
 "cells": [
  {
   "cell_type": "markdown",
   "metadata": {},
   "source": [
    "# Bangking System Using OOP (Python)\n",
    "\n",
    "## Parent Class : User\n",
    "\n",
    "     - Holds details about an User \n",
    "     - Has a function to show user details\n",
    "\n",
    "## Child Class : Bangking\n",
    "\n",
    "     - Stores details about the account balance\n",
    "     - Stores details about the amount\n",
    "     - Allows for deposits.withdraw.view_balance"
   ]
  },
  {
   "cell_type": "code",
   "execution_count": 36,
   "metadata": {},
   "outputs": [],
   "source": [
    "# Parent\n",
    "\n",
    "class User:\n",
    "\n",
    "    def __init__(self,name,age,gender):\n",
    "        self.name = name\n",
    "        self.age = age\n",
    "        self.gender = gender\n",
    "\n",
    "    def show_detail(self):\n",
    "        print(\"Personal Detail\")\n",
    "        return f'Account Name : {self.name} Age : {self.age} Gender : {self.gender}'\n",
    "\n",
    "# Child \n",
    "\n",
    "class Bank(User):\n",
    "\n",
    "    def __init__(self,name,age,gender):\n",
    "        super().__init__(name,age,gender)\n",
    "        self.balance = 0\n",
    "\n",
    "    def deposit(self,amount):\n",
    "        self.amount = amount\n",
    "        self.balance = self.balance + self.amount\n",
    "        return f\"Account balance has been updated : {self.balance}\"\n",
    "\n",
    "    def withdraw(self,amount):\n",
    "        self.amount = amount\n",
    "        if self.amount > self.balance:\n",
    "            return f\"Insufficient Funds | Balance Avaliable : {self.balance}\"\n",
    "        else:\n",
    "            self.balance -= self.amount\n",
    "            return f\"Account balance has been updated : {self.balance}\"\n",
    "\n",
    "    def view_balance(self):\n",
    "        print(self.show_detail())\n",
    "        return f\"Account balance has been updated : {self.balance}\"\n"
   ]
  },
  {
   "cell_type": "markdown",
   "metadata": {},
   "source": [
    "test Parent"
   ]
  },
  {
   "cell_type": "code",
   "execution_count": 16,
   "metadata": {},
   "outputs": [
    {
     "name": "stdout",
     "output_type": "stream",
     "text": [
      "Personal Detail\n"
     ]
    },
    {
     "data": {
      "text/plain": [
       "'Account Name : Shu Age : 26 Gender : Male'"
      ]
     },
     "execution_count": 16,
     "metadata": {},
     "output_type": "execute_result"
    }
   ],
   "source": [
    "test_1 = User(\"Shu\",26,\"Male\")\n",
    "test_1.show_detail()"
   ]
  },
  {
   "cell_type": "markdown",
   "metadata": {},
   "source": [
    "test Child deposit"
   ]
  },
  {
   "cell_type": "code",
   "execution_count": 21,
   "metadata": {},
   "outputs": [
    {
     "name": "stdout",
     "output_type": "stream",
     "text": [
      "Account balance has been updated : 200\n",
      "Account balance has been updated : 300\n"
     ]
    }
   ],
   "source": [
    "test_2 = Bank(\"Shu Yamino\",26,\"Male\")\n",
    "print(test_2.deposit(200))\n",
    "# add money\n",
    "print(test_2.deposit(100))"
   ]
  },
  {
   "cell_type": "markdown",
   "metadata": {},
   "source": [
    "test Child withdraw"
   ]
  },
  {
   "cell_type": "code",
   "execution_count": 30,
   "metadata": {},
   "outputs": [
    {
     "name": "stdout",
     "output_type": "stream",
     "text": [
      "deposit\n",
      "Account balance has been updated : 500\n",
      "\n",
      "\n",
      "withdraw 1 : 200\n",
      "Account balance has been updated : 300\n",
      "\n",
      "\n",
      "withdraw 2 until empty : 300\n",
      "Account balance has been updated : 0\n",
      "\n",
      "\n",
      "withdraw 3 but not enough : 200\n",
      "Insufficient Funds | Balance Avaliable : 0\n"
     ]
    }
   ],
   "source": [
    "test_3 = Bank(\"Shu\",26,\"Male\")\n",
    "print(f\"deposit\")\n",
    "print(test_3.deposit(500))\n",
    "print('\\n')\n",
    "print(\"withdraw 1 : 200\")\n",
    "print(test_3.withdraw(200))\n",
    "print('\\n')\n",
    "# withdraw again\n",
    "print(\"withdraw 2 until empty : 300\")\n",
    "print(test_3.withdraw(300))\n",
    "print('\\n')\n",
    "# withdraw test again\n",
    "print(\"withdraw 3 but not enough : 200\")\n",
    "print(test_3.withdraw(200))"
   ]
  },
  {
   "cell_type": "markdown",
   "metadata": {},
   "source": [
    "test child view_balance"
   ]
  },
  {
   "cell_type": "code",
   "execution_count": 37,
   "metadata": {},
   "outputs": [
    {
     "name": "stdout",
     "output_type": "stream",
     "text": [
      "deposit\n",
      "Account balance has been updated : 500\n",
      "\n",
      "\n",
      "withdraw : 200\n",
      "Account balance has been updated : 300\n",
      "\n",
      "\n",
      "Personal Detail\n",
      "Account Name : Shu Age : 26 Gender : Male\n",
      "Account balance has been updated : 300\n"
     ]
    }
   ],
   "source": [
    "test_4 = Bank(\"Shu\",26,\"Male\")\n",
    "print(f\"deposit\")\n",
    "print(test_4.deposit(500))\n",
    "print('\\n')\n",
    "print(\"withdraw : 200\")\n",
    "print(test_4.withdraw(200))\n",
    "print('\\n')\n",
    "print(test_4.view_balance())"
   ]
  },
  {
   "cell_type": "code",
   "execution_count": null,
   "metadata": {},
   "outputs": [],
   "source": []
  }
 ],
 "metadata": {
  "interpreter": {
   "hash": "98590ff4fe04c8543246b2a01debd3de3c5ca9b666f43f1fa87d5110c692004c"
  },
  "kernelspec": {
   "display_name": "Python 3.10.4 64-bit",
   "language": "python",
   "name": "python3"
  },
  "language_info": {
   "codemirror_mode": {
    "name": "ipython",
    "version": 3
   },
   "file_extension": ".py",
   "mimetype": "text/x-python",
   "name": "python",
   "nbconvert_exporter": "python",
   "pygments_lexer": "ipython3",
   "version": "3.10.4"
  },
  "orig_nbformat": 4
 },
 "nbformat": 4,
 "nbformat_minor": 2
}
