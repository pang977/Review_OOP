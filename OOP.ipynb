{
 "cells": [
  {
   "cell_type": "markdown",
   "metadata": {},
   "source": [
    "## OOP : Object Oriented Python"
   ]
  },
  {
   "cell_type": "code",
   "execution_count": 5,
   "metadata": {},
   "outputs": [
    {
     "name": "stdout",
     "output_type": "stream",
     "text": [
      "name : Pang \n",
      "salary : 3333\n"
     ]
    }
   ],
   "source": [
    "# concept\n",
    "\n",
    "class Employee :\n",
    "    # method\n",
    "    def detail(self,name,salary): \n",
    "        self.name = name\n",
    "        self.salary = salary\n",
    "\n",
    "    def showdata(self):\n",
    "        print(f'name : {self.name} \\nsalary : {self.salary}')\n",
    "        \n",
    "\n",
    "# call\n",
    "employee_1 = Employee()\n",
    "employee_1.detail(\"Pang\",3333)\n",
    "employee_1.showdata()"
   ]
  },
  {
   "cell_type": "markdown",
   "metadata": {},
   "source": [
    "Access Modifier\n",
    "\n",
    "Public () : can modify can show\n",
    "\n",
    "Protected (_) : can show not modify if you dont use _ font of name object\n",
    "\n",
    "Private (__) : can show can not modify can not use external def \n",
    "\n"
   ]
  },
  {
   "cell_type": "code",
   "execution_count": 1,
   "metadata": {},
   "outputs": [],
   "source": [
    "class Vtuber:\n",
    "    def __init__(self,name,color,group):\n",
    "        self.name = name\n",
    "        self.color = color\n",
    "        self.group = group\n",
    "    def showdata(self):\n",
    "        print(f'Name : {self.name} \\nColor : {self.color} \\nGroup : {self.group}')\n"
   ]
  },
  {
   "cell_type": "code",
   "execution_count": 2,
   "metadata": {},
   "outputs": [
    {
     "name": "stdout",
     "output_type": "stream",
     "text": [
      "Name : Shu Yamino \n",
      "Color : Purple \n",
      "Group : Luxiem\n"
     ]
    }
   ],
   "source": [
    "vtuber_1 = Vtuber(\"Shu Yamino\",\"Purple\",\"Luxiem\")\n",
    "vtuber_1.showdata()"
   ]
  },
  {
   "cell_type": "code",
   "execution_count": 3,
   "metadata": {},
   "outputs": [
    {
     "name": "stdout",
     "output_type": "stream",
     "text": [
      "Name : Sonny Brisko \n",
      "Color : Yellow \n",
      "Group : Luxiem\n"
     ]
    }
   ],
   "source": [
    "vtuber_2 = Vtuber(\"Sonny Brisko\",\"Yellow\",\"Luxiem\")\n",
    "vtuber_2.showdata()"
   ]
  },
  {
   "cell_type": "code",
   "execution_count": 4,
   "metadata": {},
   "outputs": [
    {
     "name": "stdout",
     "output_type": "stream",
     "text": [
      "Name : Sonny Brisko \n",
      "Color : Yellow \n",
      "Group : Noctyx\n"
     ]
    }
   ],
   "source": [
    "# change atriibute \n",
    "vtuber_2.group = \"Noctyx\"\n",
    "vtuber_2.showdata()"
   ]
  },
  {
   "cell_type": "code",
   "execution_count": 22,
   "metadata": {},
   "outputs": [
    {
     "name": "stdout",
     "output_type": "stream",
     "text": [
      "vtuber_1 built from Vtuber is True\n"
     ]
    }
   ],
   "source": [
    "# test isinstance(vtuber_1,Vtuber)\n",
    "nameforcheck = input(\"INPUT YOUR OBJECT THAT YOU WANT TO CHEACK : \")\n",
    "classforcheck= input(\"INPUT YOUR CLASS THAT YOU WANT TO CHEACK : \")\n",
    "print(f'{nameforcheck} built from {classforcheck} is {isinstance(nameforcheck,type(classforcheck))}')"
   ]
  },
  {
   "cell_type": "code",
   "execution_count": 54,
   "metadata": {},
   "outputs": [],
   "source": [
    "class Vtuber:\n",
    "    def __init__(self,name,color,group):\n",
    "        self.__name = name\n",
    "        self.__color = color\n",
    "        self.__group = group\n",
    "\n",
    "    def _showData(self):\n",
    "        print(f'Name : {self.getName()} \\nColor : {self.getColor()} \\nGroup : {self.getGroup()}')\n",
    "\n",
    "    def setName(self,newname):\n",
    "        self.__name = newname\n",
    "\n",
    "    def setSalary(self,newcolor):\n",
    "        self.__color = newcolor\n",
    "\n",
    "    def getName(self):\n",
    "        return self.__name\n",
    "    \n",
    "    def getColor(self):\n",
    "        return self.__color\n",
    "    \n",
    "    def getGroup(self):\n",
    "        return self.__group"
   ]
  },
  {
   "cell_type": "code",
   "execution_count": 55,
   "metadata": {},
   "outputs": [],
   "source": [
    "vtuber_3 = Vtuber(\"Shu Hikarino\",\"Green\",\"Twin\")"
   ]
  },
  {
   "cell_type": "code",
   "execution_count": 56,
   "metadata": {},
   "outputs": [],
   "source": [
    "vtuber_3.setName(\"Shu Banana\")"
   ]
  },
  {
   "cell_type": "code",
   "execution_count": 57,
   "metadata": {},
   "outputs": [
    {
     "data": {
      "text/plain": [
       "'Shu Banana'"
      ]
     },
     "execution_count": 57,
     "metadata": {},
     "output_type": "execute_result"
    }
   ],
   "source": [
    "vtuber_3.getName()"
   ]
  },
  {
   "cell_type": "code",
   "execution_count": 58,
   "metadata": {},
   "outputs": [
    {
     "name": "stdout",
     "output_type": "stream",
     "text": [
      "Name : Shu Banana \n",
      "Color : Green \n",
      "Group : Twin\n"
     ]
    }
   ],
   "source": [
    "vtuber_3._showData()"
   ]
  },
  {
   "cell_type": "markdown",
   "metadata": {},
   "source": [
    "compare public and private"
   ]
  },
  {
   "cell_type": "code",
   "execution_count": 62,
   "metadata": {},
   "outputs": [
    {
     "data": {
      "text/plain": [
       "'Shu Yamino'"
      ]
     },
     "execution_count": 62,
     "metadata": {},
     "output_type": "execute_result"
    }
   ],
   "source": [
    "vtuber_1.name"
   ]
  },
  {
   "cell_type": "code",
   "execution_count": 63,
   "metadata": {},
   "outputs": [
    {
     "ename": "AttributeError",
     "evalue": "'Vtuber' object has no attribute 'name'",
     "output_type": "error",
     "traceback": [
      "\u001b[1;31m---------------------------------------------------------------------------\u001b[0m",
      "\u001b[1;31mAttributeError\u001b[0m                            Traceback (most recent call last)",
      "\u001b[1;32m<ipython-input-63-a03a8c18b33a>\u001b[0m in \u001b[0;36m<module>\u001b[1;34m\u001b[0m\n\u001b[1;32m----> 1\u001b[1;33m \u001b[0mvtuber_3\u001b[0m\u001b[1;33m.\u001b[0m\u001b[0mname\u001b[0m\u001b[1;33m\u001b[0m\u001b[1;33m\u001b[0m\u001b[0m\n\u001b[0m",
      "\u001b[1;31mAttributeError\u001b[0m: 'Vtuber' object has no attribute 'name'"
     ]
    }
   ],
   "source": [
    "vtuber_3.name"
   ]
  }
 ],
 "metadata": {
  "interpreter": {
   "hash": "57cddac5ae9b7541513b871f8480362ac4870e8994976cf509c0e9c0207414d9"
  },
  "kernelspec": {
   "display_name": "Python 3.8.8 ('base')",
   "language": "python",
   "name": "python3"
  },
  "language_info": {
   "codemirror_mode": {
    "name": "ipython",
    "version": 3
   },
   "file_extension": ".py",
   "mimetype": "text/x-python",
   "name": "python",
   "nbconvert_exporter": "python",
   "pygments_lexer": "ipython3",
   "version": "3.8.8"
  },
  "orig_nbformat": 4
 },
 "nbformat": 4,
 "nbformat_minor": 2
}
