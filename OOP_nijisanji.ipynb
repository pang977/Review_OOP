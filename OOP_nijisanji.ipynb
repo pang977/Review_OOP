{
 "cells": [
  {
   "cell_type": "code",
   "execution_count": 4,
   "metadata": {},
   "outputs": [],
   "source": [
    "class Nijisanji:\n",
    "\n",
    "    def __init__(self,name,color,department):\n",
    "        self.__name = name\n",
    "        self.__color = color\n",
    "        self.__department = department\n",
    "\n",
    "    def _showData(self):\n",
    "        print(f'Department : {self.__department} \\nName : {self.__name} \\nColor : {self.__color}')\n",
    "\n",
    "class Nijisanji_EN(Nijisanji):\n",
    "\n",
    "    __department = \"Nijisanji EN\"\n",
    "    def __init__(self,name,color,group):\n",
    "        super().__init__(name,color,self.__department)\n",
    "        self.__group = group \n",
    "    \n",
    "    def _showData(self):\n",
    "        super()._showData()\n",
    "        print(f'Group : {self.__group}')\n",
    "\n",
    "class Nijisanji_KR(Nijisanji):\n",
    "    __department = \"Nijisanji KR\"\n",
    "    def __init__(self,name,color,wave):\n",
    "        super().__init__(name,color,self.__department)\n",
    "        self.__wave = wave\n",
    "\n",
    "    def _showData(self):\n",
    "        super()._showData()\n",
    "        print(f'Wave : {self.__wave}')\n",
    "\n",
    "class Nijisanji_JP(Nijisanji):\n",
    "    __department = \"Nijisanji JP\"\n",
    "    def __init__(self,name,color,wave,YnJP):\n",
    "        super().__init__(name,color,self.__department)\n",
    "        self.__wave = wave\n",
    "        self.__YnJP = YnJP\n",
    "    \n",
    "    def _showData(self):\n",
    "        super()._showData()\n",
    "        print(f'Wave : {self.__wave} \\nJP : {self.__YnJP}')"
   ]
  },
  {
   "cell_type": "code",
   "execution_count": 8,
   "metadata": {},
   "outputs": [
    {
     "name": "stdout",
     "output_type": "stream",
     "text": [
      "Department : Nijisanji EN \n",
      "Name : Shu Yamino \n",
      "Color : Purple\n",
      "Group : Luxiem\n"
     ]
    }
   ],
   "source": [
    "vtuber_1 = Nijisanji_EN(\"Shu Yamino\",\"Purple\",\"Luxiem\")\n",
    "vtuber_1._showData()"
   ]
  },
  {
   "cell_type": "code",
   "execution_count": 9,
   "metadata": {},
   "outputs": [
    {
     "name": "stdout",
     "output_type": "stream",
     "text": [
      "Department : Nijisanji JP \n",
      "Name : Oliver Evans \n",
      "Color : Green\n",
      "Wave : 7 \n",
      "JP : Yes\n"
     ]
    }
   ],
   "source": [
    "vtuber_2 = Nijisanji_JP(\"Oliver Evans\",\"Green\",\"7\",\"Yes\")\n",
    "vtuber_2._showData()"
   ]
  }
 ],
 "metadata": {
  "interpreter": {
   "hash": "57cddac5ae9b7541513b871f8480362ac4870e8994976cf509c0e9c0207414d9"
  },
  "kernelspec": {
   "display_name": "Python 3.8.8 ('base')",
   "language": "python",
   "name": "python3"
  },
  "language_info": {
   "codemirror_mode": {
    "name": "ipython",
    "version": 3
   },
   "file_extension": ".py",
   "mimetype": "text/x-python",
   "name": "python",
   "nbconvert_exporter": "python",
   "pygments_lexer": "ipython3",
   "version": "3.8.8"
  },
  "orig_nbformat": 4
 },
 "nbformat": 4,
 "nbformat_minor": 2
}
